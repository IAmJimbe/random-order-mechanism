{
 "cells": [
  {
   "cell_type": "code",
   "execution_count": 3,
   "metadata": {
    "scrolled": false
   },
   "outputs": [
    {
     "name": "stdout",
     "output_type": "stream",
     "text": [
      "安定結婚問題をROMを使って実行します\n",
      "男性の女性に対する選好リスト:\n",
      "{'M0': ['W2', 'W4', 'W0', 'W3', 'W1'],\n",
      " 'M1': ['W0', 'W1', 'W2', 'W3', 'W4'],\n",
      " 'M2': ['W0', 'W3', 'W2', 'W4', 'W1'],\n",
      " 'M3': ['W1', 'W4', 'W3', 'W0', 'W2'],\n",
      " 'M4': ['W3', 'W0', 'W4', 'W1', 'W2']}\n",
      "女性の男性に対する選好リスト:\n",
      "{'W0': ['M3', 'M0', 'M2', 'M1', 'M4'],\n",
      " 'W1': ['M4', 'M0', 'M1', 'M2', 'M3'],\n",
      " 'W2': ['M1', 'M2', 'M0', 'M4', 'M3'],\n",
      " 'W3': ['M2', 'M3', 'M1', 'M4', 'M0'],\n",
      " 'W4': ['M2', 'M0', 'M4', 'M1', 'M3']}\n",
      "組み合わせ結果:\n",
      "{'M0': 'W2', 'M1': 'W1', 'M2': 'W3', 'M3': 'W0', 'M4': 'W4'}\n",
      "w(M):23\n",
      "r(M):4\n",
      "d(M):1\n"
     ]
    },
    {
     "data": {
      "image/png": "[encoded data removed]",
      "text/plain": [
       "<Figure size 432x288 with 1 Axes>"
      ]
     },
     "metadata": {
      "needs_background": "light"
     },
     "output_type": "display_data"
    }
   ],
   "source": [
    "import networkx as nx\n",
    "from networkx.algorithms import bipartite\n",
    "import numpy as np\n",
    "import itertools\n",
    "import matplotlib.pyplot as plt\n",
    "import pprint\n",
    "import rom\n",
    "import crw\n",
    "import pandas as pd\n",
    "\n",
    "men_preference = crw.read_dict(\"men.csv\")\n",
    "women_preference = crw.read_dict(\"women.csv\")\n",
    "\n",
    "#男女の人数をそれぞれn人とする\n",
    "n1 = len(men_preference)\n",
    "n2 = len(women_preference)\n",
    "\n",
    "if n1 == n2:\n",
    "    print(\"安定結婚問題をROMを使って実行します\")\n",
    "    n = n1\n",
    "\n",
    "    men = [\"M\" + str(i) for i in range(n)]\n",
    "    women = [\"W\" + str(i) for i in range(n)]\n",
    "\n",
    "    #選好リストの出力\n",
    "    print (\"男性の女性に対する選好リスト:\")\n",
    "    pprint.pprint (men_preference)\n",
    "    print (\"女性の男性に対する選好リスト:\")\n",
    "    pprint.pprint (women_preference)\n",
    "\n",
    "else:\n",
    "    print(\"エラー：男女の数が異なります\")\n",
    "#男女の配列を作成する\n",
    "\n",
    "#各ノードのサイズを決める\n",
    "group1 = range(n1)\n",
    "group2 = range(n1,2*n1)\n",
    "\n",
    "#ノードの色を決める\n",
    "node_color = [\"g\"] * n1\n",
    "node_color.extend([\"r\"] * n1)\n",
    "\n",
    "#グラフgを定義し、ノードを加える\n",
    "g = nx.Graph()\n",
    "g.add_nodes_from(men, bipartite=1)\n",
    "g.add_nodes_from(women, bipartite=0)\n",
    "\n",
    "gs = rom.stableMatching(n, men, women, men_preference, women_preference)\n",
    "\n",
    "for (i,j) in itertools.product(group1, group2):\n",
    "    x=\"M\" + str(i)\n",
    "    y=\"W\" + str(j-n1)\n",
    "    if(x,y) in gs.items():\n",
    "        val = 1\n",
    "    else:\n",
    "        val = 0\n",
    "    g.add_edge(x, y, weight=val)\n",
    "\n",
    "A,B = bipartite.sets(g)\n",
    "pos = dict()\n",
    "pos.update((n,(1,i)) for i,n in enumerate(A))\n",
    "pos.update((n,(2,i)) for i,n in enumerate(B))\n",
    "\n",
    "d = nx.max_weight_matching(g)\n",
    "\n",
    "for (i, j) in list(g.edges()):\n",
    "    if (i, j) not in d:\n",
    "        if (j, i) not in d:\n",
    "            g.remove_edge(i,j)\n",
    "\n",
    "nx.draw_networkx(g, pos, node_color=node_color)\n",
    "nx.draw_networkx_edges(g, pos)\n",
    "plt.axis(\"off\")\n",
    "plt.show()"
   ]
  },
  {
   "cell_type": "code",
   "execution_count": null,
   "metadata": {},
   "outputs": [],
   "source": []
  }
 ],
 "metadata": {
  "kernelspec": {
   "display_name": "Python 3",
   "language": "python",
   "name": "python3"
  },
  "language_info": {
   "codemirror_mode": {
    "name": "ipython",
    "version": 3
   },
   "file_extension": ".py",
   "mimetype": "text/x-python",
   "name": "python",
   "nbconvert_exporter": "python",
   "pygments_lexer": "ipython3",
   "version": "3.7.0"
  }
 },
 "nbformat": 4,
 "nbformat_minor": 2
}
